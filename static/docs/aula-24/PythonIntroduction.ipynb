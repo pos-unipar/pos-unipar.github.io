{
  "nbformat": 4,
  "nbformat_minor": 0,
  "metadata": {
    "colab": {
      "name": "PythonIntroduction.ipynb",
      "provenance": [],
      "toc_visible": true
    },
    "kernelspec": {
      "name": "python3",
      "display_name": "Python 3"
    },
    "language_info": {
      "name": "python"
    }
  },
  "cells": [
    {
      "cell_type": "markdown",
      "source": [
        "# Introdução a Linguagem Python"
      ],
      "metadata": {
        "id": "7q25VYBYLR8n"
      }
    },
    {
      "cell_type": "markdown",
      "source": [
        "1. Seu primeiro programa python\n",
        "2. Strings e métodos de string\n",
        "3. Números e matemática\n",
        "4. Funções e laços\n",
        "5. Encontrando e corrigindo erros de código\n",
        "6. Lógica condicional e fluxo de controle\n",
        "7. Tuplas, listas e dicionários\n",
        "8. Programação orientada a objetos (oop)\n",
        "9. Módulos e pacotes\n",
        "10. Entrada e saída de arquivo\n",
        "11. Instalando pacotes com pip\n",
        "12. Trabalhando com bancos de dados\n",
        "13. Interagindo com a web\n",
        "\n",
        "JARMUL, K.; LAWSON. **Python Web Scraping. Hands-on data scraping and crawling using PyQT, Selnium, HTML and Python.** Segunda Edição, Packt Publishing, Nova Iorque, 2020.\n",
        "\n",
        "VIAFORE, P. **Robust Python. Write Clean and Maintainable Code**. Kudzera, California, 2021.\n",
        "\n",
        "HEISLER, F.; AMOS, D.; BADER, D.; JABLONSKI, J. **Python Basics: A Practical Introduction to Python 3**. Real Python, Toronto, 2020.\n",
        "\n",
        "https://realpython.com/python-basics/resources/"
      ],
      "metadata": {
        "id": "42HiMg2XLGk4"
      }
    },
    {
      "cell_type": "markdown",
      "source": [
        "## Seu primeiro programa python"
      ],
      "metadata": {
        "id": "ixCZDsK9J2Sl"
      }
    },
    {
      "cell_type": "code",
      "execution_count": 1,
      "metadata": {
        "colab": {
          "base_uri": "https://localhost:8080/"
        },
        "id": "50rQIeqEH6UC",
        "outputId": "48dbf7e9-78b4-4cf3-dc99-b4e77ddf94cc"
      },
      "outputs": [
        {
          "output_type": "stream",
          "name": "stdout",
          "text": [
            "Welcome to Python!\n"
          ]
        }
      ],
      "source": [
        "print(\"Welcome to Python!\")"
      ]
    },
    {
      "cell_type": "code",
      "source": [
        "print(\"Welcome\")\n",
        "print(\"to Python!\")"
      ],
      "metadata": {
        "colab": {
          "base_uri": "https://localhost:8080/"
        },
        "id": "db_7cSiaI9b4",
        "outputId": "67fa2577-57f7-47de-e47c-f63b84249ab3"
      },
      "execution_count": 3,
      "outputs": [
        {
          "output_type": "stream",
          "name": "stdout",
          "text": [
            "Welcome\n",
            "to Python!\n"
          ]
        }
      ]
    },
    {
      "cell_type": "code",
      "source": [
        "print(\"Welcome \\n to Python!\")"
      ],
      "metadata": {
        "colab": {
          "base_uri": "https://localhost:8080/"
        },
        "id": "xcR3IgVBJE62",
        "outputId": "5ca69984-e214-4b0a-92a3-bb2b4bc7cf72"
      },
      "execution_count": 2,
      "outputs": [
        {
          "output_type": "stream",
          "name": "stdout",
          "text": [
            "Welcome \n",
            " to Python!\n"
          ]
        }
      ]
    },
    {
      "cell_type": "code",
      "source": [
        "1 + 1"
      ],
      "metadata": {
        "colab": {
          "base_uri": "https://localhost:8080/"
        },
        "id": "hly2h_klJuwH",
        "outputId": "e27b0290-77a4-4015-932b-29348e276587"
      },
      "execution_count": 4,
      "outputs": [
        {
          "output_type": "execute_result",
          "data": {
            "text/plain": [
              "2"
            ]
          },
          "metadata": {},
          "execution_count": 4
        }
      ]
    },
    {
      "cell_type": "code",
      "source": [
        "phrase = \"Hello, world\"\n",
        "print(phrase)"
      ],
      "metadata": {
        "colab": {
          "base_uri": "https://localhost:8080/"
        },
        "id": "ErvKzpWdJ7x6",
        "outputId": "febc866c-63b1-4a3f-e10c-b3be0f693c35"
      },
      "execution_count": 5,
      "outputs": [
        {
          "output_type": "stream",
          "name": "stdout",
          "text": [
            "Hello, world\n"
          ]
        }
      ]
    },
    {
      "cell_type": "code",
      "source": [
        "s = 3600"
      ],
      "metadata": {
        "id": "776epQS4KKNR"
      },
      "execution_count": 6,
      "outputs": []
    },
    {
      "cell_type": "code",
      "source": [
        "seconds = 3600"
      ],
      "metadata": {
        "id": "fFIN9HVLKLny"
      },
      "execution_count": 7,
      "outputs": []
    },
    {
      "cell_type": "code",
      "source": [
        "seconds_per_hour = 3600"
      ],
      "metadata": {
        "id": "kjpjC5tpKNLT"
      },
      "execution_count": 8,
      "outputs": []
    },
    {
      "cell_type": "code",
      "source": [
        "phrase = \"Hello, world\" # This comment is PEP 8 compliant.\n",
        "print(phrase)# This comment isn't."
      ],
      "metadata": {
        "colab": {
          "base_uri": "https://localhost:8080/"
        },
        "id": "jE7iQ22YKWwk",
        "outputId": "4e713086-2a9a-4359-cfec-401c4e4c0d0e"
      },
      "execution_count": 9,
      "outputs": [
        {
          "output_type": "stream",
          "name": "stdout",
          "text": [
            "Hello, world\n"
          ]
        }
      ]
    },
    {
      "cell_type": "markdown",
      "source": [
        "## Strings e métodos de string"
      ],
      "metadata": {
        "id": "MlU0hY-OKhMV"
      }
    },
    {
      "cell_type": "markdown",
      "source": [
        "### The String Data Type"
      ],
      "metadata": {
        "id": "8EktZa87V0-L"
      }
    },
    {
      "cell_type": "code",
      "source": [
        "type(\"Hello, world\")"
      ],
      "metadata": {
        "colab": {
          "base_uri": "https://localhost:8080/"
        },
        "id": "vVhulUjKKcku",
        "outputId": "bc08176b-1c7f-4c4c-df17-8a57943082f0"
      },
      "execution_count": 10,
      "outputs": [
        {
          "output_type": "execute_result",
          "data": {
            "text/plain": [
              "str"
            ]
          },
          "metadata": {},
          "execution_count": 10
        }
      ]
    },
    {
      "cell_type": "code",
      "source": [
        "phrase = \"Hello, world\"\n",
        "type(phrase)"
      ],
      "metadata": {
        "id": "XLdMepOxKfk8",
        "outputId": "57e3f2cb-bf08-4e2a-cd4e-015a7489c477",
        "colab": {
          "base_uri": "https://localhost:8080/"
        }
      },
      "execution_count": 11,
      "outputs": [
        {
          "output_type": "execute_result",
          "data": {
            "text/plain": [
              "str"
            ]
          },
          "metadata": {},
          "execution_count": 11
        }
      ]
    },
    {
      "cell_type": "markdown",
      "source": [
        "### String Literals"
      ],
      "metadata": {
        "id": "s5a7II0uV5K1"
      }
    },
    {
      "cell_type": "code",
      "source": [
        "string1 = 'Hello, world'\n",
        "string2 = \"1234\""
      ],
      "metadata": {
        "id": "xISt72_aKlsH"
      },
      "execution_count": 13,
      "outputs": []
    },
    {
      "cell_type": "markdown",
      "source": [
        "### Determine the Length of a String"
      ],
      "metadata": {
        "id": "2yQq_m8uV9N3"
      }
    },
    {
      "cell_type": "code",
      "source": [
        "len(string1)"
      ],
      "metadata": {
        "colab": {
          "base_uri": "https://localhost:8080/"
        },
        "id": "BxdftRfxKrx8",
        "outputId": "681045e0-23e6-4701-c49e-b1bb4e5e0acf"
      },
      "execution_count": 14,
      "outputs": [
        {
          "output_type": "execute_result",
          "data": {
            "text/plain": [
              "12"
            ]
          },
          "metadata": {},
          "execution_count": 14
        }
      ]
    },
    {
      "cell_type": "code",
      "source": [
        "len(string2)"
      ],
      "metadata": {
        "colab": {
          "base_uri": "https://localhost:8080/"
        },
        "id": "teCk2gNwKvov",
        "outputId": "61649339-776d-42c5-f5fe-1083dd39c3e0"
      },
      "execution_count": 15,
      "outputs": [
        {
          "output_type": "execute_result",
          "data": {
            "text/plain": [
              "4"
            ]
          },
          "metadata": {},
          "execution_count": 15
        }
      ]
    },
    {
      "cell_type": "markdown",
      "source": [
        "### Multiline Strings"
      ],
      "metadata": {
        "id": "yrlejbHuWCDl"
      }
    },
    {
      "cell_type": "code",
      "source": [
        "paragraph = \"This planet has - or rather had - a problem, which was \\\n",
        "this: most of the people living on it were unhappy for pretty much \\\n",
        "of the time. Many solutions were suggested for this problem, but \\\n",
        "most of these were largely concerned with the movements of small \\\n",
        "green pieces of paper, which is odd because on the whole it wasn't \\\n",
        "the small green pieces of paper that were unhappy.\""
      ],
      "metadata": {
        "id": "EwyVk07YK2uk"
      },
      "execution_count": null,
      "outputs": []
    },
    {
      "cell_type": "code",
      "source": [
        "print(paragraph)"
      ],
      "metadata": {
        "colab": {
          "base_uri": "https://localhost:8080/"
        },
        "id": "pHBWvZEDK9oM",
        "outputId": "1a5d8da7-c61b-406d-ebfd-0f7b76211f39"
      },
      "execution_count": null,
      "outputs": [
        {
          "output_type": "stream",
          "name": "stdout",
          "text": [
            "This planet has - or rather had - a problem, which was this: most of the people living on it were unhappy for pretty much of the time. Many solutions were suggested for this problem, but most of these were largely concerned with the movements of small green pieces of paper, which is odd because on the whole it wasn't the small green pieces of paper that were unhappy.\n"
          ]
        }
      ]
    },
    {
      "cell_type": "markdown",
      "source": [
        "### Concatenation, Indexing, and Slicing"
      ],
      "metadata": {
        "id": "i-aMeoCYWJ-6"
      }
    },
    {
      "cell_type": "code",
      "source": [
        "string1 = \"abra\"\n",
        "string2 = \"cadabra\"\n",
        "magic_string = string1 + string2\n",
        "magic_string"
      ],
      "metadata": {
        "colab": {
          "base_uri": "https://localhost:8080/",
          "height": 35
        },
        "id": "D-2t-Bl0LAbw",
        "outputId": "ffe373a1-924f-4099-bc74-8bcd73b0eb9c"
      },
      "execution_count": null,
      "outputs": [
        {
          "output_type": "execute_result",
          "data": {
            "text/plain": [
              "'abracadabra'"
            ],
            "application/vnd.google.colaboratory.intrinsic+json": {
              "type": "string"
            }
          },
          "metadata": {},
          "execution_count": 17
        }
      ]
    },
    {
      "cell_type": "code",
      "source": [
        "first_name = \"Arthur\"\n",
        "last_name = \"Dent\"\n",
        "full_name = first_name + \" \" + last_name\n",
        "full_name"
      ],
      "metadata": {
        "colab": {
          "base_uri": "https://localhost:8080/",
          "height": 35
        },
        "id": "gxQ5rPzbMLBY",
        "outputId": "d3b1d490-a183-4d7b-a463-01b805c78645"
      },
      "execution_count": null,
      "outputs": [
        {
          "output_type": "execute_result",
          "data": {
            "text/plain": [
              "'Arthur Dent'"
            ],
            "application/vnd.google.colaboratory.intrinsic+json": {
              "type": "string"
            }
          },
          "metadata": {},
          "execution_count": 18
        }
      ]
    },
    {
      "cell_type": "markdown",
      "source": [
        "### String Indexing"
      ],
      "metadata": {
        "id": "eNmhk1kSWNlE"
      }
    },
    {
      "cell_type": "code",
      "source": [
        "flavor = \"apple pie\"\n",
        "flavor[1]"
      ],
      "metadata": {
        "colab": {
          "base_uri": "https://localhost:8080/",
          "height": 35
        },
        "id": "qxzkXrOTMPcS",
        "outputId": "202004e2-9e9b-4d38-e8f8-41a60ca6f60a"
      },
      "execution_count": null,
      "outputs": [
        {
          "output_type": "execute_result",
          "data": {
            "text/plain": [
              "'p'"
            ],
            "application/vnd.google.colaboratory.intrinsic+json": {
              "type": "string"
            }
          },
          "metadata": {},
          "execution_count": 19
        }
      ]
    },
    {
      "cell_type": "markdown",
      "source": [
        "![image.png](data:image/png;base64,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)"
      ],
      "metadata": {
        "id": "y37XNTBSMWWl"
      }
    },
    {
      "cell_type": "code",
      "source": [
        "flavor[-1]"
      ],
      "metadata": {
        "colab": {
          "base_uri": "https://localhost:8080/",
          "height": 35
        },
        "id": "roo3Z_XxMXbL",
        "outputId": "b59570ed-2ed4-4d46-afa9-6dedd295c708"
      },
      "execution_count": null,
      "outputs": [
        {
          "output_type": "execute_result",
          "data": {
            "text/plain": [
              "'e'"
            ],
            "application/vnd.google.colaboratory.intrinsic+json": {
              "type": "string"
            }
          },
          "metadata": {},
          "execution_count": 20
        }
      ]
    },
    {
      "cell_type": "markdown",
      "source": [
        "### String Slicing"
      ],
      "metadata": {
        "id": "zw591myRWSRd"
      }
    },
    {
      "cell_type": "code",
      "source": [
        "first_three_letters = flavor[0] + flavor[1] + flavor[2]\n",
        "first_three_letters"
      ],
      "metadata": {
        "colab": {
          "base_uri": "https://localhost:8080/",
          "height": 35
        },
        "id": "p4qAWGw0MijZ",
        "outputId": "27875bae-96c4-45d9-e2ac-1b0530a56e53"
      },
      "execution_count": null,
      "outputs": [
        {
          "output_type": "execute_result",
          "data": {
            "text/plain": [
              "'app'"
            ],
            "application/vnd.google.colaboratory.intrinsic+json": {
              "type": "string"
            }
          },
          "metadata": {},
          "execution_count": 21
        }
      ]
    },
    {
      "cell_type": "code",
      "source": [
        "flavor = \"apple pie\"\n",
        "flavor[0:3]"
      ],
      "metadata": {
        "colab": {
          "base_uri": "https://localhost:8080/",
          "height": 35
        },
        "id": "vh5FRfJiMmrQ",
        "outputId": "128362bb-7c93-4d87-86d9-b09761943993"
      },
      "execution_count": null,
      "outputs": [
        {
          "output_type": "execute_result",
          "data": {
            "text/plain": [
              "'app'"
            ],
            "application/vnd.google.colaboratory.intrinsic+json": {
              "type": "string"
            }
          },
          "metadata": {},
          "execution_count": 22
        }
      ]
    },
    {
      "cell_type": "code",
      "source": [
        "flavor[:5]"
      ],
      "metadata": {
        "colab": {
          "base_uri": "https://localhost:8080/",
          "height": 35
        },
        "id": "HE6hULQ5Mqc5",
        "outputId": "4602fe41-6ca8-4250-f900-d80b19cd194e"
      },
      "execution_count": null,
      "outputs": [
        {
          "output_type": "execute_result",
          "data": {
            "text/plain": [
              "'apple'"
            ],
            "application/vnd.google.colaboratory.intrinsic+json": {
              "type": "string"
            }
          },
          "metadata": {},
          "execution_count": 23
        }
      ]
    },
    {
      "cell_type": "code",
      "source": [
        "flavor[5:]"
      ],
      "metadata": {
        "colab": {
          "base_uri": "https://localhost:8080/",
          "height": 35
        },
        "id": "kelRdZreMtsE",
        "outputId": "2599e3eb-2e0b-41ae-d511-5a431b1776fe"
      },
      "execution_count": null,
      "outputs": [
        {
          "output_type": "execute_result",
          "data": {
            "text/plain": [
              "' pie'"
            ],
            "application/vnd.google.colaboratory.intrinsic+json": {
              "type": "string"
            }
          },
          "metadata": {},
          "execution_count": 24
        }
      ]
    },
    {
      "cell_type": "code",
      "source": [
        "flavor[:]"
      ],
      "metadata": {
        "colab": {
          "base_uri": "https://localhost:8080/",
          "height": 35
        },
        "id": "1rrxv8-AMv67",
        "outputId": "fc9fee97-ce29-4112-8472-5d9765efbc90"
      },
      "execution_count": null,
      "outputs": [
        {
          "output_type": "execute_result",
          "data": {
            "text/plain": [
              "'apple pie'"
            ],
            "application/vnd.google.colaboratory.intrinsic+json": {
              "type": "string"
            }
          },
          "metadata": {},
          "execution_count": 25
        }
      ]
    },
    {
      "cell_type": "markdown",
      "source": [
        "### Converting String Case"
      ],
      "metadata": {
        "id": "fo-poa3MWaKq"
      }
    },
    {
      "cell_type": "code",
      "source": [
        "\"Jean-luc Picard\".lower()"
      ],
      "metadata": {
        "colab": {
          "base_uri": "https://localhost:8080/",
          "height": 35
        },
        "id": "Cr1g4yVdM7Ma",
        "outputId": "cf106956-93d9-4b28-f765-11c5e697b64b"
      },
      "execution_count": null,
      "outputs": [
        {
          "output_type": "execute_result",
          "data": {
            "text/plain": [
              "'jean-luc picard'"
            ],
            "application/vnd.google.colaboratory.intrinsic+json": {
              "type": "string"
            }
          },
          "metadata": {},
          "execution_count": 26
        }
      ]
    },
    {
      "cell_type": "code",
      "source": [
        "name = \"Jean-luc Picard\"\n",
        "name.lower()"
      ],
      "metadata": {
        "colab": {
          "base_uri": "https://localhost:8080/",
          "height": 35
        },
        "id": "i4wOr1rFM-ad",
        "outputId": "45764d41-e439-4681-a8a1-85e1934b01ba"
      },
      "execution_count": null,
      "outputs": [
        {
          "output_type": "execute_result",
          "data": {
            "text/plain": [
              "'jean-luc picard'"
            ],
            "application/vnd.google.colaboratory.intrinsic+json": {
              "type": "string"
            }
          },
          "metadata": {},
          "execution_count": 27
        }
      ]
    },
    {
      "cell_type": "code",
      "source": [
        "loud_voice = \"Can you hear me yet?\"\n",
        "loud_voice.upper()"
      ],
      "metadata": {
        "colab": {
          "base_uri": "https://localhost:8080/",
          "height": 35
        },
        "id": "diVttvO9NBkm",
        "outputId": "0fb54562-b48c-426b-b70c-39d68bd1a7f4"
      },
      "execution_count": null,
      "outputs": [
        {
          "output_type": "execute_result",
          "data": {
            "text/plain": [
              "'CAN YOU HEAR ME YET?'"
            ],
            "application/vnd.google.colaboratory.intrinsic+json": {
              "type": "string"
            }
          },
          "metadata": {},
          "execution_count": 28
        }
      ]
    },
    {
      "cell_type": "markdown",
      "source": [
        "### Removing Whitespace From a String"
      ],
      "metadata": {
        "id": "EweCxXfIWq0p"
      }
    },
    {
      "cell_type": "code",
      "source": [
        "name = \"Jean-luc Picard \"\n",
        "name.rstrip()"
      ],
      "metadata": {
        "colab": {
          "base_uri": "https://localhost:8080/",
          "height": 35
        },
        "id": "ma0GZojMNQOs",
        "outputId": "d9bf8561-c840-4295-981f-004e58e6cab3"
      },
      "execution_count": null,
      "outputs": [
        {
          "output_type": "execute_result",
          "data": {
            "text/plain": [
              "'Jean-luc Picard'"
            ],
            "application/vnd.google.colaboratory.intrinsic+json": {
              "type": "string"
            }
          },
          "metadata": {},
          "execution_count": 94
        }
      ]
    },
    {
      "cell_type": "code",
      "source": [
        "name = \" Jean-luc Picard\"\n",
        "name.lstrip()"
      ],
      "metadata": {
        "colab": {
          "base_uri": "https://localhost:8080/",
          "height": 35
        },
        "id": "GaTtdJaHNT-A",
        "outputId": "b7d9f17b-a98b-4667-c000-6a6d077ab2f7"
      },
      "execution_count": null,
      "outputs": [
        {
          "output_type": "execute_result",
          "data": {
            "text/plain": [
              "'Jean-luc Picard'"
            ],
            "application/vnd.google.colaboratory.intrinsic+json": {
              "type": "string"
            }
          },
          "metadata": {},
          "execution_count": 95
        }
      ]
    },
    {
      "cell_type": "code",
      "source": [
        "name = \" Jean-luc Picard \"\n",
        "name.strip()"
      ],
      "metadata": {
        "colab": {
          "base_uri": "https://localhost:8080/",
          "height": 35
        },
        "id": "Y8ghhDFnNXPT",
        "outputId": "10aeed1d-b76f-439e-e42a-3e8b2b456ef0"
      },
      "execution_count": null,
      "outputs": [
        {
          "output_type": "execute_result",
          "data": {
            "text/plain": [
              "'Jean-luc Picard'"
            ],
            "application/vnd.google.colaboratory.intrinsic+json": {
              "type": "string"
            }
          },
          "metadata": {},
          "execution_count": 96
        }
      ]
    },
    {
      "cell_type": "markdown",
      "source": [
        "### Determine if a String Starts or Ends With a Particular String"
      ],
      "metadata": {
        "id": "E1ko8HRiXCYr"
      }
    },
    {
      "cell_type": "code",
      "source": [
        "starship = \"Enterprise\"\n",
        "starship.startswith(\"en\")"
      ],
      "metadata": {
        "colab": {
          "base_uri": "https://localhost:8080/"
        },
        "id": "hrKZpQnsNa6G",
        "outputId": "fca828ec-0091-49da-f194-ac9b6f02d30d"
      },
      "execution_count": null,
      "outputs": [
        {
          "output_type": "execute_result",
          "data": {
            "text/plain": [
              "False"
            ]
          },
          "metadata": {},
          "execution_count": 34
        }
      ]
    },
    {
      "cell_type": "code",
      "source": [
        "starship.endswith(\"rise\")"
      ],
      "metadata": {
        "colab": {
          "base_uri": "https://localhost:8080/"
        },
        "id": "RSWeb9KGNiaH",
        "outputId": "cdf144ce-d763-4e9f-f5f8-95a07a2e4964"
      },
      "execution_count": null,
      "outputs": [
        {
          "output_type": "execute_result",
          "data": {
            "text/plain": [
              "True"
            ]
          },
          "metadata": {},
          "execution_count": 35
        }
      ]
    },
    {
      "cell_type": "markdown",
      "source": [
        "### Interact With User Input"
      ],
      "metadata": {
        "id": "Yw7vg6iwXJsE"
      }
    },
    {
      "cell_type": "code",
      "source": [
        "prompt = \"Hey, what's up? \"\n",
        "user_input = input(prompt)\n",
        "print(\"You said:\", user_input)"
      ],
      "metadata": {
        "colab": {
          "base_uri": "https://localhost:8080/"
        },
        "id": "1piX5P91Nr3i",
        "outputId": "7179356c-68eb-433b-a38e-da9618e3ea42"
      },
      "execution_count": null,
      "outputs": [
        {
          "output_type": "stream",
          "name": "stdout",
          "text": [
            "Hey, what's up? oi\n",
            "You said: oi\n"
          ]
        }
      ]
    },
    {
      "cell_type": "code",
      "source": [
        "response = input(\"What should I shout? \")\n",
        "shouted_response = response.upper()\n",
        "print(\"Well, if you insist...\", shouted_response)"
      ],
      "metadata": {
        "colab": {
          "base_uri": "https://localhost:8080/"
        },
        "id": "sqdqiUkgNxVM",
        "outputId": "af9987d0-049a-471a-a6cc-b56a753cc167"
      },
      "execution_count": null,
      "outputs": [
        {
          "output_type": "stream",
          "name": "stdout",
          "text": [
            "What should I shout? oi\n",
            "Well, if you insist... OI\n"
          ]
        }
      ]
    },
    {
      "cell_type": "markdown",
      "source": [
        "### Working With Strings and Numbers"
      ],
      "metadata": {
        "id": "tnD_z1LcXNic"
      }
    },
    {
      "cell_type": "code",
      "source": [
        "num = \"2\"\n",
        "num + num"
      ],
      "metadata": {
        "colab": {
          "base_uri": "https://localhost:8080/",
          "height": 35
        },
        "id": "hts3M7ctOVLS",
        "outputId": "ff175804-a1c2-4aad-8d7b-f198aa046b91"
      },
      "execution_count": null,
      "outputs": [
        {
          "output_type": "execute_result",
          "data": {
            "text/plain": [
              "'22'"
            ],
            "application/vnd.google.colaboratory.intrinsic+json": {
              "type": "string"
            }
          },
          "metadata": {},
          "execution_count": 38
        }
      ]
    },
    {
      "cell_type": "code",
      "source": [
        "num = \"12\"\n",
        "num * 3"
      ],
      "metadata": {
        "colab": {
          "base_uri": "https://localhost:8080/",
          "height": 35
        },
        "id": "rGjw4qafRWWT",
        "outputId": "71fe98d0-5f88-4b7c-cda3-efb497bcb717"
      },
      "execution_count": null,
      "outputs": [
        {
          "output_type": "execute_result",
          "data": {
            "text/plain": [
              "'121212'"
            ],
            "application/vnd.google.colaboratory.intrinsic+json": {
              "type": "string"
            }
          },
          "metadata": {},
          "execution_count": 39
        }
      ]
    },
    {
      "cell_type": "code",
      "source": [
        "\"12\" * \"3\""
      ],
      "metadata": {
        "id": "upDrUc4sRbEY"
      },
      "execution_count": null,
      "outputs": []
    },
    {
      "cell_type": "markdown",
      "source": [
        "### Converting Strings to Numbers"
      ],
      "metadata": {
        "id": "Xi-Gcr6rXZeg"
      }
    },
    {
      "cell_type": "code",
      "source": [
        "num = input(\"Enter a number to be doubled: \")\n",
        "doubled_num = num * 2\n",
        "print(doubled_num)"
      ],
      "metadata": {
        "colab": {
          "base_uri": "https://localhost:8080/"
        },
        "id": "n6YLJBgaRhC2",
        "outputId": "8e88addb-ceeb-46db-d44f-90cac3150a1f"
      },
      "execution_count": null,
      "outputs": [
        {
          "output_type": "stream",
          "name": "stdout",
          "text": [
            "Enter a number to be doubled: 1\n",
            "11\n"
          ]
        }
      ]
    },
    {
      "cell_type": "code",
      "source": [
        "num = input(\"Enter a number to be doubled: \")\n",
        "doubled_num = float(num) * 2\n",
        "print(doubled_num)"
      ],
      "metadata": {
        "colab": {
          "base_uri": "https://localhost:8080/"
        },
        "id": "4lIqDu3BRoNq",
        "outputId": "fc2a3f29-310d-44c1-a657-4f635f10daf4"
      },
      "execution_count": null,
      "outputs": [
        {
          "output_type": "stream",
          "name": "stdout",
          "text": [
            "Enter a number to be doubled: 2\n",
            "4.0\n"
          ]
        }
      ]
    },
    {
      "cell_type": "markdown",
      "source": [
        "### Converting Numbers to Strings"
      ],
      "metadata": {
        "id": "__S15y_8Xdz5"
      }
    },
    {
      "cell_type": "code",
      "source": [
        "num_pancakes = 10\n",
        "\"I am going to eat \" + str(num_pancakes) + \" pancakes.\""
      ],
      "metadata": {
        "colab": {
          "base_uri": "https://localhost:8080/",
          "height": 35
        },
        "id": "hCueEbQbRwwZ",
        "outputId": "0a55eb88-26dc-493c-f024-2b3f4dce3c44"
      },
      "execution_count": null,
      "outputs": [
        {
          "output_type": "execute_result",
          "data": {
            "text/plain": [
              "'I am going to eat 10 pancakes.'"
            ],
            "application/vnd.google.colaboratory.intrinsic+json": {
              "type": "string"
            }
          },
          "metadata": {},
          "execution_count": 43
        }
      ]
    },
    {
      "cell_type": "code",
      "source": [
        "total_pancakes = 10\n",
        "pancakes_eaten = 5\n",
        "\"Only \" + str(total_pancakes - pancakes_eaten) + \" pancakes left.\"\n",
        "'Only 5 pancakes left.'"
      ],
      "metadata": {
        "colab": {
          "base_uri": "https://localhost:8080/",
          "height": 35
        },
        "id": "5O9Uw2b2R0wD",
        "outputId": "c8676d7f-6209-4d4d-9856-0c64699b8dff"
      },
      "execution_count": null,
      "outputs": [
        {
          "output_type": "execute_result",
          "data": {
            "text/plain": [
              "'Only 5 pancakes left.'"
            ],
            "application/vnd.google.colaboratory.intrinsic+json": {
              "type": "string"
            }
          },
          "metadata": {},
          "execution_count": 44
        }
      ]
    },
    {
      "cell_type": "markdown",
      "source": [
        "### Streamline Your Print Statements"
      ],
      "metadata": {
        "id": "qeLRYPmLXhZL"
      }
    },
    {
      "cell_type": "code",
      "source": [
        "n = 3\n",
        "m = 4\n",
        "f\"{n} times {m} is {n*m}\""
      ],
      "metadata": {
        "colab": {
          "base_uri": "https://localhost:8080/",
          "height": 35
        },
        "id": "QThfNVxeR9aa",
        "outputId": "a05e1391-4275-4ecb-f3d7-ad6fefe04cda"
      },
      "execution_count": null,
      "outputs": [
        {
          "output_type": "execute_result",
          "data": {
            "text/plain": [
              "'3 times 4 is 12'"
            ],
            "application/vnd.google.colaboratory.intrinsic+json": {
              "type": "string"
            }
          },
          "metadata": {},
          "execution_count": 45
        }
      ]
    },
    {
      "cell_type": "code",
      "source": [
        "name = \"John\"\n",
        "heads = \"1\"\n",
        "arms = \"2\"\n",
        "\"{} has {} heads and {} arms\".format(name, heads, arms)"
      ],
      "metadata": {
        "colab": {
          "base_uri": "https://localhost:8080/",
          "height": 35
        },
        "id": "U6M_1S7pSDrz",
        "outputId": "cf430bd6-ed64-4fee-b950-7b5973165496"
      },
      "execution_count": null,
      "outputs": [
        {
          "output_type": "execute_result",
          "data": {
            "text/plain": [
              "'John has 1 heads and 2 arms'"
            ],
            "application/vnd.google.colaboratory.intrinsic+json": {
              "type": "string"
            }
          },
          "metadata": {},
          "execution_count": 46
        }
      ]
    },
    {
      "cell_type": "markdown",
      "source": [
        "### Find a String in a String"
      ],
      "metadata": {
        "id": "-YPhrZ3kXs5Q"
      }
    },
    {
      "cell_type": "code",
      "source": [
        "phrase = \"the surprise is in here somewhere\"\n",
        "phrase.find(\"surprise\")"
      ],
      "metadata": {
        "colab": {
          "base_uri": "https://localhost:8080/"
        },
        "id": "XdLg1YZcSNO1",
        "outputId": "549339ce-180e-4143-e1eb-bccad1b2c107"
      },
      "execution_count": null,
      "outputs": [
        {
          "output_type": "execute_result",
          "data": {
            "text/plain": [
              "4"
            ]
          },
          "metadata": {},
          "execution_count": 47
        }
      ]
    },
    {
      "cell_type": "code",
      "source": [
        "my_story = \"I'm telling you the truth; nothing but the truth!\"\n",
        "my_story.replace(\"the truth\", \"lies\")"
      ],
      "metadata": {
        "colab": {
          "base_uri": "https://localhost:8080/",
          "height": 35
        },
        "id": "FYd8OXIySlEB",
        "outputId": "cf71f1a7-83d4-4f2d-da7c-1d759d73036b"
      },
      "execution_count": null,
      "outputs": [
        {
          "output_type": "execute_result",
          "data": {
            "text/plain": [
              "\"I'm telling you lies; nothing but lies!\""
            ],
            "application/vnd.google.colaboratory.intrinsic+json": {
              "type": "string"
            }
          },
          "metadata": {},
          "execution_count": 48
        }
      ]
    },
    {
      "cell_type": "code",
      "source": [
        "my_story"
      ],
      "metadata": {
        "colab": {
          "base_uri": "https://localhost:8080/",
          "height": 35
        },
        "id": "OMIokt3dSsTU",
        "outputId": "6bb0b778-7fcf-49dc-9c0d-2cb89426717d"
      },
      "execution_count": null,
      "outputs": [
        {
          "output_type": "execute_result",
          "data": {
            "text/plain": [
              "\"I'm telling you the truth; nothing but the truth!\""
            ],
            "application/vnd.google.colaboratory.intrinsic+json": {
              "type": "string"
            }
          },
          "metadata": {},
          "execution_count": 49
        }
      ]
    },
    {
      "cell_type": "code",
      "source": [
        "text = \"some of the stuff\"\n",
        "new_text = text.replace(\"some of\", \"all\")\n",
        "new_text = new_text.replace(\"stuff\", \"things\")\n",
        "new_text"
      ],
      "metadata": {
        "id": "3eGi4ssJSv--"
      },
      "execution_count": null,
      "outputs": []
    },
    {
      "cell_type": "markdown",
      "source": [
        "## Números e matemática"
      ],
      "metadata": {
        "id": "qtOheDp-TQWD"
      }
    },
    {
      "cell_type": "markdown",
      "source": [
        "### Integers"
      ],
      "metadata": {
        "id": "F8MCFJCWTdX6"
      }
    },
    {
      "cell_type": "code",
      "source": [
        "type(1)"
      ],
      "metadata": {
        "colab": {
          "base_uri": "https://localhost:8080/"
        },
        "id": "rVPKRWq9Teha",
        "outputId": "b8c0eb75-c148-4ef7-9694-b160a6acad33"
      },
      "execution_count": null,
      "outputs": [
        {
          "output_type": "execute_result",
          "data": {
            "text/plain": [
              "int"
            ]
          },
          "metadata": {},
          "execution_count": 50
        }
      ]
    },
    {
      "cell_type": "code",
      "source": [
        "int(\"25\")"
      ],
      "metadata": {
        "colab": {
          "base_uri": "https://localhost:8080/"
        },
        "id": "p1d0u70UTgB5",
        "outputId": "67d5400b-68ce-4f76-b106-18c4c55e37de"
      },
      "execution_count": null,
      "outputs": [
        {
          "output_type": "execute_result",
          "data": {
            "text/plain": [
              "25"
            ]
          },
          "metadata": {},
          "execution_count": 51
        }
      ]
    },
    {
      "cell_type": "code",
      "source": [
        "1000000"
      ],
      "metadata": {
        "colab": {
          "base_uri": "https://localhost:8080/"
        },
        "id": "9yM86fUBTin8",
        "outputId": "099a45ca-edc2-436d-f1ea-dadf29c42c67"
      },
      "execution_count": null,
      "outputs": [
        {
          "output_type": "execute_result",
          "data": {
            "text/plain": [
              "1000000"
            ]
          },
          "metadata": {},
          "execution_count": 52
        }
      ]
    },
    {
      "cell_type": "markdown",
      "source": [
        "### Floating-Point"
      ],
      "metadata": {
        "id": "PW8P9erJTlq9"
      }
    },
    {
      "cell_type": "code",
      "source": [
        "type(1.0)"
      ],
      "metadata": {
        "colab": {
          "base_uri": "https://localhost:8080/"
        },
        "id": "A7ZfZjZQTmY8",
        "outputId": "aab9c8d3-7d8c-4958-f729-637e9cc75c37"
      },
      "execution_count": null,
      "outputs": [
        {
          "output_type": "execute_result",
          "data": {
            "text/plain": [
              "float"
            ]
          },
          "metadata": {},
          "execution_count": 53
        }
      ]
    },
    {
      "cell_type": "code",
      "source": [
        "float(\"1.25\")"
      ],
      "metadata": {
        "colab": {
          "base_uri": "https://localhost:8080/"
        },
        "id": "LzvRWGX-ToyW",
        "outputId": "d400800a-3047-4476-db24-953fe7650ca0"
      },
      "execution_count": null,
      "outputs": [
        {
          "output_type": "execute_result",
          "data": {
            "text/plain": [
              "1.25"
            ]
          },
          "metadata": {},
          "execution_count": 54
        }
      ]
    },
    {
      "cell_type": "code",
      "source": [
        "1000000.0"
      ],
      "metadata": {
        "colab": {
          "base_uri": "https://localhost:8080/"
        },
        "id": "BPwSoLNUTrHH",
        "outputId": "7349839a-f1aa-4a0f-9850-a9b86f771e5a"
      },
      "execution_count": null,
      "outputs": [
        {
          "output_type": "execute_result",
          "data": {
            "text/plain": [
              "1000000.0"
            ]
          },
          "metadata": {},
          "execution_count": 55
        }
      ]
    },
    {
      "cell_type": "code",
      "source": [
        "200000000000000000.0"
      ],
      "metadata": {
        "colab": {
          "base_uri": "https://localhost:8080/"
        },
        "id": "Y7RFVPEATu9I",
        "outputId": "93912c1b-8572-40a2-bbd9-fa62930ba569"
      },
      "execution_count": null,
      "outputs": [
        {
          "output_type": "execute_result",
          "data": {
            "text/plain": [
              "2e+17"
            ]
          },
          "metadata": {},
          "execution_count": 56
        }
      ]
    },
    {
      "cell_type": "code",
      "source": [
        "1e-4"
      ],
      "metadata": {
        "colab": {
          "base_uri": "https://localhost:8080/"
        },
        "id": "vInW5AZRT1Kn",
        "outputId": "04954c05-4148-4a9a-9ee9-73da5dfb83ef"
      },
      "execution_count": null,
      "outputs": [
        {
          "output_type": "execute_result",
          "data": {
            "text/plain": [
              "0.0001"
            ]
          },
          "metadata": {},
          "execution_count": 57
        }
      ]
    },
    {
      "cell_type": "markdown",
      "source": [
        "### Arithmetic Operators and Expressions"
      ],
      "metadata": {
        "id": "K5Gu5e5BT5Tn"
      }
    },
    {
      "cell_type": "code",
      "source": [
        "1 + 2"
      ],
      "metadata": {
        "colab": {
          "base_uri": "https://localhost:8080/"
        },
        "id": "MmcS9hvcT8bf",
        "outputId": "f342eb18-eb3f-4657-b395-1828e84efe32"
      },
      "execution_count": null,
      "outputs": [
        {
          "output_type": "execute_result",
          "data": {
            "text/plain": [
              "3"
            ]
          },
          "metadata": {},
          "execution_count": 58
        }
      ]
    },
    {
      "cell_type": "code",
      "source": [
        "1.0 + 2"
      ],
      "metadata": {
        "colab": {
          "base_uri": "https://localhost:8080/"
        },
        "id": "0MVHArcnT-ip",
        "outputId": "711b687d-452f-483c-fa9e-ed4889c0257c"
      },
      "execution_count": null,
      "outputs": [
        {
          "output_type": "execute_result",
          "data": {
            "text/plain": [
              "3.0"
            ]
          },
          "metadata": {},
          "execution_count": 59
        }
      ]
    },
    {
      "cell_type": "code",
      "source": [
        "1 - 1"
      ],
      "metadata": {
        "colab": {
          "base_uri": "https://localhost:8080/"
        },
        "id": "sBWuikGYUBF7",
        "outputId": "6e0958c8-7bd4-459e-90a8-f8d73654d39d"
      },
      "execution_count": null,
      "outputs": [
        {
          "output_type": "execute_result",
          "data": {
            "text/plain": [
              "0"
            ]
          },
          "metadata": {},
          "execution_count": 60
        }
      ]
    },
    {
      "cell_type": "code",
      "source": [
        "5.0 - 3"
      ],
      "metadata": {
        "colab": {
          "base_uri": "https://localhost:8080/"
        },
        "id": "0j7W5oudUCUH",
        "outputId": "a87f8ec8-ed02-4626-b9ea-3a77e9490191"
      },
      "execution_count": null,
      "outputs": [
        {
          "output_type": "execute_result",
          "data": {
            "text/plain": [
              "2.0"
            ]
          },
          "metadata": {},
          "execution_count": 61
        }
      ]
    },
    {
      "cell_type": "code",
      "source": [
        "1 - (-3)"
      ],
      "metadata": {
        "colab": {
          "base_uri": "https://localhost:8080/"
        },
        "id": "zDujQakAUFwV",
        "outputId": "6fe31219-37c0-4b99-f576-e6c1f975b584"
      },
      "execution_count": null,
      "outputs": [
        {
          "output_type": "execute_result",
          "data": {
            "text/plain": [
              "4"
            ]
          },
          "metadata": {},
          "execution_count": 62
        }
      ]
    },
    {
      "cell_type": "code",
      "source": [
        "3 * 3"
      ],
      "metadata": {
        "colab": {
          "base_uri": "https://localhost:8080/"
        },
        "id": "1iSEUrrCUIGW",
        "outputId": "08b5a539-0645-4a5e-ce06-6e3f9ff6ae1f"
      },
      "execution_count": null,
      "outputs": [
        {
          "output_type": "execute_result",
          "data": {
            "text/plain": [
              "9"
            ]
          },
          "metadata": {},
          "execution_count": 63
        }
      ]
    },
    {
      "cell_type": "code",
      "source": [
        "2 * 8.0"
      ],
      "metadata": {
        "colab": {
          "base_uri": "https://localhost:8080/"
        },
        "id": "m4SpbWUNUJ-q",
        "outputId": "354b0d86-4aa4-445a-a941-8a3d5344b3e5"
      },
      "execution_count": null,
      "outputs": [
        {
          "output_type": "execute_result",
          "data": {
            "text/plain": [
              "16.0"
            ]
          },
          "metadata": {},
          "execution_count": 64
        }
      ]
    },
    {
      "cell_type": "code",
      "source": [
        "9 / 3"
      ],
      "metadata": {
        "colab": {
          "base_uri": "https://localhost:8080/"
        },
        "id": "2_stveKCULmC",
        "outputId": "92d64987-4e0e-4166-e8b2-47d7fcfc6d47"
      },
      "execution_count": null,
      "outputs": [
        {
          "output_type": "execute_result",
          "data": {
            "text/plain": [
              "3.0"
            ]
          },
          "metadata": {},
          "execution_count": 65
        }
      ]
    },
    {
      "cell_type": "code",
      "source": [
        "int(9 / 3)"
      ],
      "metadata": {
        "colab": {
          "base_uri": "https://localhost:8080/"
        },
        "id": "jTngWAYEUPD5",
        "outputId": "63188d1e-d209-4d21-da3a-0e291f866a6c"
      },
      "execution_count": null,
      "outputs": [
        {
          "output_type": "execute_result",
          "data": {
            "text/plain": [
              "3"
            ]
          },
          "metadata": {},
          "execution_count": 66
        }
      ]
    },
    {
      "cell_type": "code",
      "source": [
        "9 // 3"
      ],
      "metadata": {
        "colab": {
          "base_uri": "https://localhost:8080/"
        },
        "id": "ycx31gSnUR0x",
        "outputId": "c574cf99-2189-4b2b-cf6d-251cac71c259"
      },
      "execution_count": null,
      "outputs": [
        {
          "output_type": "execute_result",
          "data": {
            "text/plain": [
              "3"
            ]
          },
          "metadata": {},
          "execution_count": 67
        }
      ]
    },
    {
      "cell_type": "code",
      "source": [
        "2 ** 2"
      ],
      "metadata": {
        "colab": {
          "base_uri": "https://localhost:8080/"
        },
        "id": "oXGAKf82UXeL",
        "outputId": "f458933d-d26e-4aec-cef0-6eba2f6ed4c8"
      },
      "execution_count": null,
      "outputs": [
        {
          "output_type": "execute_result",
          "data": {
            "text/plain": [
              "4"
            ]
          },
          "metadata": {},
          "execution_count": 68
        }
      ]
    },
    {
      "cell_type": "code",
      "source": [
        "3 ** 1.5"
      ],
      "metadata": {
        "colab": {
          "base_uri": "https://localhost:8080/"
        },
        "id": "lyXA0F1SUabd",
        "outputId": "243e1e87-cc7f-4597-af4d-44e3749183e8"
      },
      "execution_count": null,
      "outputs": [
        {
          "output_type": "execute_result",
          "data": {
            "text/plain": [
              "5.196152422706632"
            ]
          },
          "metadata": {},
          "execution_count": 69
        }
      ]
    },
    {
      "cell_type": "code",
      "source": [
        "9 ** 0.5"
      ],
      "metadata": {
        "colab": {
          "base_uri": "https://localhost:8080/"
        },
        "id": "edXkcwLiUcm-",
        "outputId": "06215060-3029-4552-f165-d4f1a2062d57"
      },
      "execution_count": null,
      "outputs": [
        {
          "output_type": "execute_result",
          "data": {
            "text/plain": [
              "3.0"
            ]
          },
          "metadata": {},
          "execution_count": 70
        }
      ]
    },
    {
      "cell_type": "code",
      "source": [
        "5 % 3"
      ],
      "metadata": {
        "colab": {
          "base_uri": "https://localhost:8080/"
        },
        "id": "bD78lZuJUfd_",
        "outputId": "92d663c1-5bd1-4cd6-ce0d-f8de36f2690d"
      },
      "execution_count": null,
      "outputs": [
        {
          "output_type": "execute_result",
          "data": {
            "text/plain": [
              "2"
            ]
          },
          "metadata": {},
          "execution_count": 71
        }
      ]
    },
    {
      "cell_type": "code",
      "source": [
        "4/2 + 2**3"
      ],
      "metadata": {
        "colab": {
          "base_uri": "https://localhost:8080/"
        },
        "id": "DKp98hyuUkDq",
        "outputId": "3ed37528-d943-4344-b0c7-26ce35582c3d"
      },
      "execution_count": null,
      "outputs": [
        {
          "output_type": "execute_result",
          "data": {
            "text/plain": [
              "10.0"
            ]
          },
          "metadata": {},
          "execution_count": 72
        }
      ]
    },
    {
      "cell_type": "code",
      "source": [
        "-1 + (-3*2 + 4)"
      ],
      "metadata": {
        "colab": {
          "base_uri": "https://localhost:8080/"
        },
        "id": "AFmARSBIUk5l",
        "outputId": "4dd91635-e84e-4c50-cfe2-8ca2ec287ed9"
      },
      "execution_count": null,
      "outputs": [
        {
          "output_type": "execute_result",
          "data": {
            "text/plain": [
              "-3"
            ]
          },
          "metadata": {},
          "execution_count": 73
        }
      ]
    },
    {
      "cell_type": "code",
      "source": [
        "round(2.3)"
      ],
      "metadata": {
        "colab": {
          "base_uri": "https://localhost:8080/"
        },
        "id": "-zAv2iNCUshi",
        "outputId": "7eeb283b-0116-444b-b53e-7ed850ef0ed5"
      },
      "execution_count": null,
      "outputs": [
        {
          "output_type": "execute_result",
          "data": {
            "text/plain": [
              "2"
            ]
          },
          "metadata": {},
          "execution_count": 74
        }
      ]
    },
    {
      "cell_type": "code",
      "source": [
        "round(2.7)"
      ],
      "metadata": {
        "colab": {
          "base_uri": "https://localhost:8080/"
        },
        "id": "fiEgxTDUUu92",
        "outputId": "0bf3abac-5ef9-44c9-ac54-d2da31bbea8f"
      },
      "execution_count": null,
      "outputs": [
        {
          "output_type": "execute_result",
          "data": {
            "text/plain": [
              "3"
            ]
          },
          "metadata": {},
          "execution_count": 75
        }
      ]
    },
    {
      "cell_type": "code",
      "source": [
        "round(3.14159, 3)"
      ],
      "metadata": {
        "colab": {
          "base_uri": "https://localhost:8080/"
        },
        "id": "DCpHS2-YUx5o",
        "outputId": "645776d4-a931-42e9-e546-cbcabcfc1ee6"
      },
      "execution_count": null,
      "outputs": [
        {
          "output_type": "execute_result",
          "data": {
            "text/plain": [
              "3.142"
            ]
          },
          "metadata": {},
          "execution_count": 77
        }
      ]
    },
    {
      "cell_type": "code",
      "source": [
        "abs(3)"
      ],
      "metadata": {
        "colab": {
          "base_uri": "https://localhost:8080/"
        },
        "id": "-E91ahbRU7AC",
        "outputId": "c07d4994-0214-4964-a034-f75098a70733"
      },
      "execution_count": null,
      "outputs": [
        {
          "output_type": "execute_result",
          "data": {
            "text/plain": [
              "3"
            ]
          },
          "metadata": {},
          "execution_count": 78
        }
      ]
    },
    {
      "cell_type": "code",
      "source": [
        "abs(-5.0)"
      ],
      "metadata": {
        "colab": {
          "base_uri": "https://localhost:8080/"
        },
        "id": "278imie_U8qM",
        "outputId": "be8247f5-0e36-4029-a872-0c376754d1e4"
      },
      "execution_count": null,
      "outputs": [
        {
          "output_type": "execute_result",
          "data": {
            "text/plain": [
              "5.0"
            ]
          },
          "metadata": {},
          "execution_count": 79
        }
      ]
    },
    {
      "cell_type": "code",
      "source": [
        "pow(2, 3)"
      ],
      "metadata": {
        "colab": {
          "base_uri": "https://localhost:8080/"
        },
        "id": "3_sLg8YoU-le",
        "outputId": "024d2710-e3e6-4b43-8917-d1a4f1c4fe97"
      },
      "execution_count": null,
      "outputs": [
        {
          "output_type": "execute_result",
          "data": {
            "text/plain": [
              "8"
            ]
          },
          "metadata": {},
          "execution_count": 80
        }
      ]
    },
    {
      "cell_type": "code",
      "source": [
        "pow(2, -2)"
      ],
      "metadata": {
        "colab": {
          "base_uri": "https://localhost:8080/"
        },
        "id": "RL0F1NN4VAAd",
        "outputId": "665fea8f-1e14-4576-9f7e-eb2b9c2f5b33"
      },
      "execution_count": null,
      "outputs": [
        {
          "output_type": "execute_result",
          "data": {
            "text/plain": [
              "0.25"
            ]
          },
          "metadata": {},
          "execution_count": 81
        }
      ]
    },
    {
      "cell_type": "markdown",
      "source": [
        "### Print Numbers in Style"
      ],
      "metadata": {
        "id": "TX0OiPiRVGZo"
      }
    },
    {
      "cell_type": "code",
      "source": [
        "n = 7.125\n",
        "f\"The value of n is {n}\""
      ],
      "metadata": {
        "colab": {
          "base_uri": "https://localhost:8080/",
          "height": 35
        },
        "id": "1Qy4_bLCVHy5",
        "outputId": "661e99ba-7bca-4c92-fb38-5d25708e2fad"
      },
      "execution_count": null,
      "outputs": [
        {
          "output_type": "execute_result",
          "data": {
            "text/plain": [
              "'The value of n is 7.125'"
            ],
            "application/vnd.google.colaboratory.intrinsic+json": {
              "type": "string"
            }
          },
          "metadata": {},
          "execution_count": 82
        }
      ]
    },
    {
      "cell_type": "code",
      "source": [
        "n = 7.125\n",
        "f\"The value of n is {n:.2f}\""
      ],
      "metadata": {
        "colab": {
          "base_uri": "https://localhost:8080/",
          "height": 35
        },
        "id": "KIEu-hvwVL8z",
        "outputId": "baaaf17c-d615-4fc2-849b-2a670be2111f"
      },
      "execution_count": null,
      "outputs": [
        {
          "output_type": "execute_result",
          "data": {
            "text/plain": [
              "'The value of n is 7.12'"
            ],
            "application/vnd.google.colaboratory.intrinsic+json": {
              "type": "string"
            }
          },
          "metadata": {},
          "execution_count": 83
        }
      ]
    },
    {
      "cell_type": "code",
      "source": [
        "balance = 2000.0\n",
        "spent = 256.35\n",
        "remaining = balance - spent\n",
        "f\"After spending ${spent:.2f}, I was left with ${remaining:,.2f}\""
      ],
      "metadata": {
        "colab": {
          "base_uri": "https://localhost:8080/",
          "height": 35
        },
        "id": "yY2H1MgiVTOF",
        "outputId": "a1655eb6-6ea0-4d15-c02f-026835b995e0"
      },
      "execution_count": null,
      "outputs": [
        {
          "output_type": "execute_result",
          "data": {
            "text/plain": [
              "'After spending $256.35, I was left with $1,743.65'"
            ],
            "application/vnd.google.colaboratory.intrinsic+json": {
              "type": "string"
            }
          },
          "metadata": {},
          "execution_count": 84
        }
      ]
    },
    {
      "cell_type": "code",
      "source": [
        "ratio = 0.9\n",
        "f\"Over {ratio:.1%} of Pythonistas say 'Real Python rocks!'\""
      ],
      "metadata": {
        "colab": {
          "base_uri": "https://localhost:8080/",
          "height": 35
        },
        "id": "nWTYzIU_VTT1",
        "outputId": "db554ac4-15e5-4db2-c3a9-f6fe9241a7f3"
      },
      "execution_count": null,
      "outputs": [
        {
          "output_type": "execute_result",
          "data": {
            "text/plain": [
              "\"Over 90.0% of Pythonistas say 'Real Python rocks!'\""
            ],
            "application/vnd.google.colaboratory.intrinsic+json": {
              "type": "string"
            }
          },
          "metadata": {},
          "execution_count": 85
        }
      ]
    },
    {
      "cell_type": "markdown",
      "source": [
        "## Funções e laços"
      ],
      "metadata": {
        "id": "aFy9b9HoX4-r"
      }
    },
    {
      "cell_type": "markdown",
      "source": [
        "### Functions Are Values"
      ],
      "metadata": {
        "id": "PP-ytngzYDwS"
      }
    },
    {
      "cell_type": "code",
      "source": [
        "len"
      ],
      "metadata": {
        "colab": {
          "base_uri": "https://localhost:8080/"
        },
        "id": "Ls1ssffNYFiI",
        "outputId": "e95162ea-84d8-472c-c565-936da6049280"
      },
      "execution_count": null,
      "outputs": [
        {
          "output_type": "execute_result",
          "data": {
            "text/plain": [
              "<function len>"
            ]
          },
          "metadata": {},
          "execution_count": 97
        }
      ]
    },
    {
      "cell_type": "code",
      "source": [
        "type(len)"
      ],
      "metadata": {
        "colab": {
          "base_uri": "https://localhost:8080/"
        },
        "id": "cq4Q-QlVYH4J",
        "outputId": "8cf9232d-82f6-4d42-b04a-06c0b0cbf737"
      },
      "execution_count": null,
      "outputs": [
        {
          "output_type": "execute_result",
          "data": {
            "text/plain": [
              "builtin_function_or_method"
            ]
          },
          "metadata": {},
          "execution_count": 102
        }
      ]
    },
    {
      "cell_type": "code",
      "source": [
        "len = \"I'm not the len you're looking for.\"\n",
        "len"
      ],
      "metadata": {
        "colab": {
          "base_uri": "https://localhost:8080/",
          "height": 35
        },
        "id": "7-UgD2uIYKCi",
        "outputId": "8bcd2c79-8c50-49a1-c19a-ded99db28f8b"
      },
      "execution_count": null,
      "outputs": [
        {
          "output_type": "execute_result",
          "data": {
            "text/plain": [
              "\"I'm not the len you're looking for.\""
            ],
            "application/vnd.google.colaboratory.intrinsic+json": {
              "type": "string"
            }
          },
          "metadata": {},
          "execution_count": 99
        }
      ]
    },
    {
      "cell_type": "code",
      "source": [
        "type(len)"
      ],
      "metadata": {
        "colab": {
          "base_uri": "https://localhost:8080/"
        },
        "id": "2g8NVJbMYMTK",
        "outputId": "9725e1e7-a2be-4d75-e942-cb52c90422d3"
      },
      "execution_count": null,
      "outputs": [
        {
          "output_type": "execute_result",
          "data": {
            "text/plain": [
              "str"
            ]
          },
          "metadata": {},
          "execution_count": 100
        }
      ]
    },
    {
      "cell_type": "code",
      "source": [
        "del len"
      ],
      "metadata": {
        "id": "yDHgTWO9YO6D"
      },
      "execution_count": null,
      "outputs": []
    },
    {
      "cell_type": "code",
      "source": [
        "num_letters = len(\"four\")"
      ],
      "metadata": {
        "id": "dwfJvKZgYWDn"
      },
      "execution_count": null,
      "outputs": []
    },
    {
      "cell_type": "code",
      "source": [
        "num_letters = 4"
      ],
      "metadata": {
        "id": "pYJ0zHwBYYZg"
      },
      "execution_count": null,
      "outputs": []
    },
    {
      "cell_type": "code",
      "source": [
        "return_value = print(\"What do I return?\")"
      ],
      "metadata": {
        "colab": {
          "base_uri": "https://localhost:8080/"
        },
        "id": "LMcv5HIVYbSy",
        "outputId": "3b0daf7d-169a-4e1d-b9f4-7eb6e51d1980"
      },
      "execution_count": null,
      "outputs": [
        {
          "output_type": "stream",
          "name": "stdout",
          "text": [
            "What do I return?\n"
          ]
        }
      ]
    },
    {
      "cell_type": "code",
      "source": [
        "return_value"
      ],
      "metadata": {
        "id": "7At9tLVoYdNy"
      },
      "execution_count": null,
      "outputs": []
    },
    {
      "cell_type": "markdown",
      "source": [
        "### The Anatomy of a Function"
      ],
      "metadata": {
        "id": "rmZPAbrIYkIf"
      }
    },
    {
      "cell_type": "code",
      "source": [
        "def multiply(x, y): # Function signature\n",
        "  # Function body\n",
        "  product = x * y\n",
        "  return product"
      ],
      "metadata": {
        "id": "yLYUBEvoYjjM"
      },
      "execution_count": null,
      "outputs": []
    },
    {
      "cell_type": "code",
      "source": [
        "multiply(2, 4)"
      ],
      "metadata": {
        "colab": {
          "base_uri": "https://localhost:8080/"
        },
        "id": "cxmYScwbYu0B",
        "outputId": "04dcf88b-3280-4271-bb35-36cc17406ce1"
      },
      "execution_count": null,
      "outputs": [
        {
          "output_type": "execute_result",
          "data": {
            "text/plain": [
              "8"
            ]
          },
          "metadata": {},
          "execution_count": 108
        }
      ]
    },
    {
      "cell_type": "code",
      "source": [
        "def greet(name):\n",
        "  print(f\"Hello, {name}!\")"
      ],
      "metadata": {
        "id": "q1gCtpGjYzmT"
      },
      "execution_count": null,
      "outputs": []
    },
    {
      "cell_type": "code",
      "source": [
        "greet(\"Dave\")"
      ],
      "metadata": {
        "colab": {
          "base_uri": "https://localhost:8080/"
        },
        "id": "t2bAq4pBY1vU",
        "outputId": "9aa644b1-f541-4633-e43f-e770013e1791"
      },
      "execution_count": null,
      "outputs": [
        {
          "output_type": "stream",
          "name": "stdout",
          "text": [
            "Hello, Dave!\n"
          ]
        }
      ]
    },
    {
      "cell_type": "markdown",
      "source": [
        "### The while Loop"
      ],
      "metadata": {
        "id": "ajtG0zD2ZGzK"
      }
    },
    {
      "cell_type": "code",
      "source": [
        "n = 1\n",
        "while n < 5:\n",
        "  print(n)\n",
        "  n = n + 1"
      ],
      "metadata": {
        "colab": {
          "base_uri": "https://localhost:8080/"
        },
        "id": "mQ75bnP7ZKTO",
        "outputId": "2a22b50f-ff17-49b9-8294-7b1ec07208cf"
      },
      "execution_count": null,
      "outputs": [
        {
          "output_type": "stream",
          "name": "stdout",
          "text": [
            "1\n",
            "2\n",
            "3\n",
            "4\n"
          ]
        }
      ]
    },
    {
      "cell_type": "code",
      "source": [
        "num = float(input(\"Enter a positive number: \"))\n",
        "while num <= 0:\n",
        "  print(\"That's not a positive number!\")\n",
        "  num = float(input(\"Enter a positive number: \"))"
      ],
      "metadata": {
        "colab": {
          "base_uri": "https://localhost:8080/"
        },
        "id": "x2KV9GZLZV2Q",
        "outputId": "ff26f299-980f-4ca6-f48e-5ed4704702ba"
      },
      "execution_count": null,
      "outputs": [
        {
          "name": "stdout",
          "output_type": "stream",
          "text": [
            "Enter a positive number: -1\n",
            "That's not a positive number!\n",
            "Enter a positive number: 1\n"
          ]
        }
      ]
    },
    {
      "cell_type": "markdown",
      "source": [
        "### The for Loop"
      ],
      "metadata": {
        "id": "_bJOyNwpZbxR"
      }
    },
    {
      "cell_type": "code",
      "source": [
        "for letter in \"Python\":\n",
        "  print(letter)"
      ],
      "metadata": {
        "colab": {
          "base_uri": "https://localhost:8080/"
        },
        "id": "MFQQU5AVZcZp",
        "outputId": "7abb7218-a247-4a7c-890f-8db4caf9360b"
      },
      "execution_count": null,
      "outputs": [
        {
          "output_type": "stream",
          "name": "stdout",
          "text": [
            "P\n",
            "y\n",
            "t\n",
            "h\n",
            "o\n",
            "n\n"
          ]
        }
      ]
    },
    {
      "cell_type": "code",
      "source": [
        "word = \"Python\"\n",
        "index = 0\n",
        "while index < len(word):\n",
        "  print(word[index])\n",
        "  index = index + 1"
      ],
      "metadata": {
        "colab": {
          "base_uri": "https://localhost:8080/"
        },
        "id": "DOi29vZcZg6H",
        "outputId": "97b01611-af9c-4f1b-a028-113a9d623c0d"
      },
      "execution_count": null,
      "outputs": [
        {
          "output_type": "stream",
          "name": "stdout",
          "text": [
            "P\n",
            "y\n",
            "t\n",
            "h\n",
            "o\n",
            "n\n"
          ]
        }
      ]
    },
    {
      "cell_type": "code",
      "source": [
        "for n in range(3):\n",
        "  print(\"Python\")"
      ],
      "metadata": {
        "colab": {
          "base_uri": "https://localhost:8080/"
        },
        "id": "azNXESeIZlQx",
        "outputId": "a15bf81f-4f19-480a-8c26-437d95c10e86"
      },
      "execution_count": null,
      "outputs": [
        {
          "output_type": "stream",
          "name": "stdout",
          "text": [
            "Python\n",
            "Python\n",
            "Python\n"
          ]
        }
      ]
    },
    {
      "cell_type": "code",
      "source": [
        "for n in range(10, 20):\n",
        "  print(n * n)"
      ],
      "metadata": {
        "colab": {
          "base_uri": "https://localhost:8080/"
        },
        "id": "tG99K1BDZoJ-",
        "outputId": "e5f6ad6a-6781-47d0-9ed4-b99f999feb5c"
      },
      "execution_count": null,
      "outputs": [
        {
          "output_type": "stream",
          "name": "stdout",
          "text": [
            "100\n",
            "121\n",
            "144\n",
            "169\n",
            "196\n",
            "225\n",
            "256\n",
            "289\n",
            "324\n",
            "361\n"
          ]
        }
      ]
    },
    {
      "cell_type": "code",
      "source": [
        "amount = float(input(\"Enter an amount: \"))\n",
        "for num_people in range(2, 6):\n",
        "  print(f\"{num_people} people: ${amount / num_people:,.2f} each\")"
      ],
      "metadata": {
        "colab": {
          "base_uri": "https://localhost:8080/"
        },
        "id": "kOILFN5eZrrz",
        "outputId": "3e7c4bf9-05f8-4aa5-c92d-9ca6dca3d992"
      },
      "execution_count": null,
      "outputs": [
        {
          "output_type": "stream",
          "name": "stdout",
          "text": [
            "Enter an amount: 10\n",
            "2 people: $5.00 each\n",
            "3 people: $3.33 each\n",
            "4 people: $2.50 each\n",
            "5 people: $2.00 each\n"
          ]
        }
      ]
    },
    {
      "cell_type": "markdown",
      "source": [
        "### Nested Loops"
      ],
      "metadata": {
        "id": "pNE5iXPeZxk2"
      }
    },
    {
      "cell_type": "code",
      "source": [
        "for n in range(1, 4):\n",
        "  for j in range(4, 7):\n",
        "    print(f\"n = {n} and j = {j}\")"
      ],
      "metadata": {
        "id": "y7PfN5O3Zydf",
        "outputId": "8d8a3b43-e89b-4606-8d03-2dac6a64ee19",
        "colab": {
          "base_uri": "https://localhost:8080/"
        }
      },
      "execution_count": null,
      "outputs": [
        {
          "output_type": "stream",
          "name": "stdout",
          "text": [
            "n = 1 and j = 4\n",
            "n = 1 and j = 5\n",
            "n = 1 and j = 6\n",
            "n = 2 and j = 4\n",
            "n = 2 and j = 5\n",
            "n = 2 and j = 6\n",
            "n = 3 and j = 4\n",
            "n = 3 and j = 5\n",
            "n = 3 and j = 6\n"
          ]
        }
      ]
    }
  ]
}